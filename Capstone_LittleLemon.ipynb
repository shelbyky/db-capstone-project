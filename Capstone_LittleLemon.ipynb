{
 "cells": [
  {
   "cell_type": "code",
   "execution_count": 1,
   "metadata": {},
   "outputs": [
    {
     "name": "stdout",
     "output_type": "stream",
     "text": [
      "Defaulting to user installation because normal site-packages is not writeable\n",
      "Requirement already satisfied: mysql-connector-python in ./Library/Python/3.9/lib/python/site-packages (8.0.32)\n",
      "Requirement already satisfied: protobuf<=3.20.3,>=3.11.0 in ./Library/Python/3.9/lib/python/site-packages (from mysql-connector-python) (3.20.3)\n",
      "Note: you may need to restart the kernel to use updated packages.\n"
     ]
    }
   ],
   "source": [
    "%pip install mysql-connector-python"
   ]
  },
  {
   "cell_type": "code",
   "execution_count": 2,
   "id": "c1dd00b1",
   "metadata": {},
   "outputs": [],
   "source": [
    "import mysql.connector as connector"
   ]
  },
  {
   "cell_type": "code",
   "execution_count": 15,
   "id": "b8d8e352",
   "metadata": {},
   "outputs": [],
   "source": [
    "connection = connector.connect(user = \"little_lemon_admin\", password = \"adminpass2\",db = \"LittleLemonDB\")\n",
    "cursor = connection.cursor()"
   ]
  },
  {
   "cell_type": "code",
   "execution_count": 16,
   "id": "23205069",
   "metadata": {},
   "outputs": [
    {
     "name": "stdout",
     "output_type": "stream",
     "text": [
      "('Bookings',)\n",
      "('Customers',)\n",
      "('Delivery',)\n",
      "('Menu',)\n",
      "('MenuItems',)\n",
      "('Orders',)\n",
      "('ordersview',)\n",
      "('Staff',)\n"
     ]
    }
   ],
   "source": [
    "show_table_query = \"SHOW tables\"\n",
    "cursor.execute(show_table_query)\n",
    "results = cursor.fetchall()\n",
    "for x in results:\n",
    "    print(x)"
   ]
  },
  {
   "cell_type": "code",
   "execution_count": 19,
   "id": "5494c50f",
   "metadata": {},
   "outputs": [
    {
     "name": "stdout",
     "output_type": "stream",
     "text": [
      "('FullName', 'ContactNum', 'Email')\n",
      "('Casper Holmes', '3512385039', 'casperh@gmail.com')\n",
      "('Rupert Castaneda', '3514920584', 'rupertc@gmail.com')\n",
      "('Cameron Foley', '3519385037', 'cameronf@gmail.com')\n",
      "('Kaan Malone', '3518402857', 'kaanm@gmail.com')\n",
      "('Flora Bishop', '3519375028', 'florab@gmail.com')\n",
      "('Eliza Cole', '3510385028', 'elizac@gmail.com')\n",
      "('Fred Mayer', '3518492058', 'fredm@gmail.com')\n",
      "('Max Nelson', '3514629563', 'maxn@gmail.com')\n",
      "('Mikayla Jarvis', '3512759473', 'mikaylaj@gmail.com')\n",
      "('Harvey Boyd', '3516492057', 'harveyb@gmail.com')\n"
     ]
    }
   ],
   "source": [
    "customer_info_query = \"\"\"SELECT DISTINCT c.FullName,\n",
    "c.ContactNum,\n",
    "c.Email\n",
    "FROM Customers c\n",
    "INNER JOIN Orders o ON o.CustomerID = c.CustomerID\n",
    "WHERE o.TotalCost > 60;\"\"\"\n",
    "\n",
    "cursor.execute(customer_info_query)\n",
    "results = cursor.fetchall()\n",
    "columns = cursor.column_names\n",
    "print(columns)\n",
    "for x in results:\n",
    "    print(x)"
   ]
  }
 ],
 "metadata": {
  "kernelspec": {
   "display_name": "Python 3",
   "language": "python",
   "name": "python3"
  },
  "language_info": {
   "codemirror_mode": {
    "name": "ipython",
    "version": 3
   },
   "file_extension": ".py",
   "mimetype": "text/x-python",
   "name": "python",
   "nbconvert_exporter": "python",
   "pygments_lexer": "ipython3",
   "version": "3.9.6"
  }
 },
 "nbformat": 4,
 "nbformat_minor": 5
}
